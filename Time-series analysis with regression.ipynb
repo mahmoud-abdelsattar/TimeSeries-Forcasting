{
 "cells": [
  {
   "cell_type": "markdown",
   "metadata": {},
   "source": [
    "# Time Analysis prediction \n",
    "\n",
    "using the regrssion techniques can you predict the future of the stock market based on the history of it ?\n",
    "\n",
    "![Time analysis](https://magoosh.com/statistics/files/2018/05/time_series.png)\n",
    "\n",
    "it would be great to predict one day in the future, one month and one year !"
   ]
  },
  {
   "cell_type": "markdown",
   "metadata": {},
   "source": [
    "## Reading and Explore the dataset"
   ]
  },
  {
   "cell_type": "code",
   "execution_count": 1,
   "metadata": {},
   "outputs": [],
   "source": [
    "# Importing required modules\n",
    "import pandas as pd          \n",
    "import numpy as np               # For mathematical calculations \n",
    "import matplotlib.pyplot as plt  # For plotting graphs \n",
    "import datetime as dt\n",
    "from datetime import datetime    # To access datetime \n",
    "from pandas import Series        # To work on series \n",
    "%matplotlib inline \n",
    "\n",
    "import warnings                   # To ignore the warnings \n",
    "warnings.filterwarnings(\"ignore\")\n",
    "\n",
    "\n",
    "# Settings for pretty nice plots\n",
    "plt.style.use('fivethirtyeight')\n",
    "plt.show()"
   ]
  },
  {
   "cell_type": "code",
   "execution_count": 2,
   "metadata": {},
   "outputs": [
    {
     "data": {
      "text/html": [
       "<div>\n",
       "<style scoped>\n",
       "    .dataframe tbody tr th:only-of-type {\n",
       "        vertical-align: middle;\n",
       "    }\n",
       "\n",
       "    .dataframe tbody tr th {\n",
       "        vertical-align: top;\n",
       "    }\n",
       "\n",
       "    .dataframe thead th {\n",
       "        text-align: right;\n",
       "    }\n",
       "</style>\n",
       "<table border=\"1\" class=\"dataframe\">\n",
       "  <thead>\n",
       "    <tr style=\"text-align: right;\">\n",
       "      <th></th>\n",
       "      <th>Time</th>\n",
       "      <th>Open</th>\n",
       "      <th>High</th>\n",
       "      <th>Low</th>\n",
       "      <th>Close</th>\n",
       "      <th>Volume</th>\n",
       "    </tr>\n",
       "  </thead>\n",
       "  <tbody>\n",
       "    <tr>\n",
       "      <td>0</td>\n",
       "      <td>2010-01-01 00:00</td>\n",
       "      <td>1.43283</td>\n",
       "      <td>1.43293</td>\n",
       "      <td>1.43224</td>\n",
       "      <td>1.43293</td>\n",
       "      <td>608600007.1</td>\n",
       "    </tr>\n",
       "    <tr>\n",
       "      <td>1</td>\n",
       "      <td>2010-01-01 00:15</td>\n",
       "      <td>1.43285</td>\n",
       "      <td>1.43295</td>\n",
       "      <td>1.43229</td>\n",
       "      <td>1.43275</td>\n",
       "      <td>535600003.2</td>\n",
       "    </tr>\n",
       "    <tr>\n",
       "      <td>2</td>\n",
       "      <td>2010-01-01 00:30</td>\n",
       "      <td>1.43280</td>\n",
       "      <td>1.43303</td>\n",
       "      <td>1.43239</td>\n",
       "      <td>1.43281</td>\n",
       "      <td>436299999.2</td>\n",
       "    </tr>\n",
       "    <tr>\n",
       "      <td>3</td>\n",
       "      <td>2010-01-01 00:45</td>\n",
       "      <td>1.43285</td>\n",
       "      <td>1.43294</td>\n",
       "      <td>1.43229</td>\n",
       "      <td>1.43276</td>\n",
       "      <td>614299997.3</td>\n",
       "    </tr>\n",
       "    <tr>\n",
       "      <td>4</td>\n",
       "      <td>2010-01-01 01:00</td>\n",
       "      <td>1.43287</td>\n",
       "      <td>1.43292</td>\n",
       "      <td>1.43206</td>\n",
       "      <td>1.43282</td>\n",
       "      <td>705300008.8</td>\n",
       "    </tr>\n",
       "  </tbody>\n",
       "</table>\n",
       "</div>"
      ],
      "text/plain": [
       "               Time     Open     High      Low    Close       Volume\n",
       "0  2010-01-01 00:00  1.43283  1.43293  1.43224  1.43293  608600007.1\n",
       "1  2010-01-01 00:15  1.43285  1.43295  1.43229  1.43275  535600003.2\n",
       "2  2010-01-01 00:30  1.43280  1.43303  1.43239  1.43281  436299999.2\n",
       "3  2010-01-01 00:45  1.43285  1.43294  1.43229  1.43276  614299997.3\n",
       "4  2010-01-01 01:00  1.43287  1.43292  1.43206  1.43282  705300008.8"
      ]
     },
     "execution_count": 2,
     "metadata": {},
     "output_type": "execute_result"
    }
   ],
   "source": [
    "df = pd.read_csv(\"EURUSD_15m_BID_01.01.2010-31.12.2016.csv\")\n",
    "df.head()"
   ]
  },
  {
   "cell_type": "code",
   "execution_count": 3,
   "metadata": {},
   "outputs": [
    {
     "name": "stdout",
     "output_type": "stream",
     "text": [
      "<class 'pandas.core.frame.DataFrame'>\n",
      "RangeIndex: 245444 entries, 0 to 245443\n",
      "Data columns (total 6 columns):\n",
      "Time      245444 non-null object\n",
      "Open      245444 non-null float64\n",
      "High      245444 non-null float64\n",
      "Low       245444 non-null float64\n",
      "Close     245444 non-null float64\n",
      "Volume    245444 non-null float64\n",
      "dtypes: float64(5), object(1)\n",
      "memory usage: 11.2+ MB\n"
     ]
    }
   ],
   "source": [
    "df.info()"
   ]
  },
  {
   "cell_type": "code",
   "execution_count": 4,
   "metadata": {},
   "outputs": [
    {
     "data": {
      "text/html": [
       "<div>\n",
       "<style scoped>\n",
       "    .dataframe tbody tr th:only-of-type {\n",
       "        vertical-align: middle;\n",
       "    }\n",
       "\n",
       "    .dataframe tbody tr th {\n",
       "        vertical-align: top;\n",
       "    }\n",
       "\n",
       "    .dataframe thead th {\n",
       "        text-align: right;\n",
       "    }\n",
       "</style>\n",
       "<table border=\"1\" class=\"dataframe\">\n",
       "  <thead>\n",
       "    <tr style=\"text-align: right;\">\n",
       "      <th></th>\n",
       "      <th>Time</th>\n",
       "      <th>Open</th>\n",
       "      <th>High</th>\n",
       "      <th>Low</th>\n",
       "      <th>Close</th>\n",
       "      <th>Volume</th>\n",
       "    </tr>\n",
       "  </thead>\n",
       "  <tbody>\n",
       "    <tr>\n",
       "      <td>0</td>\n",
       "      <td>2010-01-01 00:00:00</td>\n",
       "      <td>1.43283</td>\n",
       "      <td>1.43293</td>\n",
       "      <td>1.43224</td>\n",
       "      <td>1.43293</td>\n",
       "      <td>608600007.1</td>\n",
       "    </tr>\n",
       "    <tr>\n",
       "      <td>1</td>\n",
       "      <td>2010-01-01 00:15:00</td>\n",
       "      <td>1.43285</td>\n",
       "      <td>1.43295</td>\n",
       "      <td>1.43229</td>\n",
       "      <td>1.43275</td>\n",
       "      <td>535600003.2</td>\n",
       "    </tr>\n",
       "    <tr>\n",
       "      <td>2</td>\n",
       "      <td>2010-01-01 00:30:00</td>\n",
       "      <td>1.43280</td>\n",
       "      <td>1.43303</td>\n",
       "      <td>1.43239</td>\n",
       "      <td>1.43281</td>\n",
       "      <td>436299999.2</td>\n",
       "    </tr>\n",
       "    <tr>\n",
       "      <td>3</td>\n",
       "      <td>2010-01-01 00:45:00</td>\n",
       "      <td>1.43285</td>\n",
       "      <td>1.43294</td>\n",
       "      <td>1.43229</td>\n",
       "      <td>1.43276</td>\n",
       "      <td>614299997.3</td>\n",
       "    </tr>\n",
       "    <tr>\n",
       "      <td>4</td>\n",
       "      <td>2010-01-01 01:00:00</td>\n",
       "      <td>1.43287</td>\n",
       "      <td>1.43292</td>\n",
       "      <td>1.43206</td>\n",
       "      <td>1.43282</td>\n",
       "      <td>705300008.8</td>\n",
       "    </tr>\n",
       "  </tbody>\n",
       "</table>\n",
       "</div>"
      ],
      "text/plain": [
       "                 Time     Open     High      Low    Close       Volume\n",
       "0 2010-01-01 00:00:00  1.43283  1.43293  1.43224  1.43293  608600007.1\n",
       "1 2010-01-01 00:15:00  1.43285  1.43295  1.43229  1.43275  535600003.2\n",
       "2 2010-01-01 00:30:00  1.43280  1.43303  1.43239  1.43281  436299999.2\n",
       "3 2010-01-01 00:45:00  1.43285  1.43294  1.43229  1.43276  614299997.3\n",
       "4 2010-01-01 01:00:00  1.43287  1.43292  1.43206  1.43282  705300008.8"
      ]
     },
     "execution_count": 4,
     "metadata": {},
     "output_type": "execute_result"
    }
   ],
   "source": [
    "# Convert string to datetime64\n",
    "df['Time'] = df['Time'].apply(pd.to_datetime)\n",
    "df.head()"
   ]
  },
  {
   "cell_type": "markdown",
   "metadata": {},
   "source": [
    "## Adding Year Month Day and day of week Columns by extract them from Time"
   ]
  },
  {
   "cell_type": "code",
   "execution_count": 5,
   "metadata": {},
   "outputs": [
    {
     "data": {
      "text/html": [
       "<div>\n",
       "<style scoped>\n",
       "    .dataframe tbody tr th:only-of-type {\n",
       "        vertical-align: middle;\n",
       "    }\n",
       "\n",
       "    .dataframe tbody tr th {\n",
       "        vertical-align: top;\n",
       "    }\n",
       "\n",
       "    .dataframe thead th {\n",
       "        text-align: right;\n",
       "    }\n",
       "</style>\n",
       "<table border=\"1\" class=\"dataframe\">\n",
       "  <thead>\n",
       "    <tr style=\"text-align: right;\">\n",
       "      <th></th>\n",
       "      <th>Open</th>\n",
       "      <th>High</th>\n",
       "      <th>Low</th>\n",
       "      <th>Close</th>\n",
       "      <th>Volume</th>\n",
       "      <th>year</th>\n",
       "      <th>month</th>\n",
       "      <th>day</th>\n",
       "      <th>day of week</th>\n",
       "    </tr>\n",
       "    <tr>\n",
       "      <th>Time</th>\n",
       "      <th></th>\n",
       "      <th></th>\n",
       "      <th></th>\n",
       "      <th></th>\n",
       "      <th></th>\n",
       "      <th></th>\n",
       "      <th></th>\n",
       "      <th></th>\n",
       "      <th></th>\n",
       "    </tr>\n",
       "  </thead>\n",
       "  <tbody>\n",
       "    <tr>\n",
       "      <td>2010-01-01 00:00:00</td>\n",
       "      <td>1.43283</td>\n",
       "      <td>1.43293</td>\n",
       "      <td>1.43224</td>\n",
       "      <td>1.43293</td>\n",
       "      <td>608600007.1</td>\n",
       "      <td>2010</td>\n",
       "      <td>1</td>\n",
       "      <td>1</td>\n",
       "      <td>4</td>\n",
       "    </tr>\n",
       "    <tr>\n",
       "      <td>2010-01-01 00:15:00</td>\n",
       "      <td>1.43285</td>\n",
       "      <td>1.43295</td>\n",
       "      <td>1.43229</td>\n",
       "      <td>1.43275</td>\n",
       "      <td>535600003.2</td>\n",
       "      <td>2010</td>\n",
       "      <td>1</td>\n",
       "      <td>1</td>\n",
       "      <td>4</td>\n",
       "    </tr>\n",
       "    <tr>\n",
       "      <td>2010-01-01 00:30:00</td>\n",
       "      <td>1.43280</td>\n",
       "      <td>1.43303</td>\n",
       "      <td>1.43239</td>\n",
       "      <td>1.43281</td>\n",
       "      <td>436299999.2</td>\n",
       "      <td>2010</td>\n",
       "      <td>1</td>\n",
       "      <td>1</td>\n",
       "      <td>4</td>\n",
       "    </tr>\n",
       "    <tr>\n",
       "      <td>2010-01-01 00:45:00</td>\n",
       "      <td>1.43285</td>\n",
       "      <td>1.43294</td>\n",
       "      <td>1.43229</td>\n",
       "      <td>1.43276</td>\n",
       "      <td>614299997.3</td>\n",
       "      <td>2010</td>\n",
       "      <td>1</td>\n",
       "      <td>1</td>\n",
       "      <td>4</td>\n",
       "    </tr>\n",
       "    <tr>\n",
       "      <td>2010-01-01 01:00:00</td>\n",
       "      <td>1.43287</td>\n",
       "      <td>1.43292</td>\n",
       "      <td>1.43206</td>\n",
       "      <td>1.43282</td>\n",
       "      <td>705300008.8</td>\n",
       "      <td>2010</td>\n",
       "      <td>1</td>\n",
       "      <td>1</td>\n",
       "      <td>4</td>\n",
       "    </tr>\n",
       "    <tr>\n",
       "      <td>...</td>\n",
       "      <td>...</td>\n",
       "      <td>...</td>\n",
       "      <td>...</td>\n",
       "      <td>...</td>\n",
       "      <td>...</td>\n",
       "      <td>...</td>\n",
       "      <td>...</td>\n",
       "      <td>...</td>\n",
       "      <td>...</td>\n",
       "    </tr>\n",
       "    <tr>\n",
       "      <td>2010-01-01 23:45:00</td>\n",
       "      <td>1.43335</td>\n",
       "      <td>1.43335</td>\n",
       "      <td>1.43335</td>\n",
       "      <td>1.43335</td>\n",
       "      <td>0.0</td>\n",
       "      <td>2010</td>\n",
       "      <td>1</td>\n",
       "      <td>1</td>\n",
       "      <td>4</td>\n",
       "    </tr>\n",
       "    <tr>\n",
       "      <td>2010-01-02 00:00:00</td>\n",
       "      <td>1.43335</td>\n",
       "      <td>1.43335</td>\n",
       "      <td>1.43335</td>\n",
       "      <td>1.43335</td>\n",
       "      <td>0.0</td>\n",
       "      <td>2010</td>\n",
       "      <td>1</td>\n",
       "      <td>2</td>\n",
       "      <td>5</td>\n",
       "    </tr>\n",
       "    <tr>\n",
       "      <td>2010-01-02 00:15:00</td>\n",
       "      <td>1.43335</td>\n",
       "      <td>1.43335</td>\n",
       "      <td>1.43335</td>\n",
       "      <td>1.43335</td>\n",
       "      <td>0.0</td>\n",
       "      <td>2010</td>\n",
       "      <td>1</td>\n",
       "      <td>2</td>\n",
       "      <td>5</td>\n",
       "    </tr>\n",
       "    <tr>\n",
       "      <td>2010-01-02 00:30:00</td>\n",
       "      <td>1.43335</td>\n",
       "      <td>1.43335</td>\n",
       "      <td>1.43335</td>\n",
       "      <td>1.43335</td>\n",
       "      <td>0.0</td>\n",
       "      <td>2010</td>\n",
       "      <td>1</td>\n",
       "      <td>2</td>\n",
       "      <td>5</td>\n",
       "    </tr>\n",
       "    <tr>\n",
       "      <td>2010-01-02 00:45:00</td>\n",
       "      <td>1.43335</td>\n",
       "      <td>1.43335</td>\n",
       "      <td>1.43335</td>\n",
       "      <td>1.43335</td>\n",
       "      <td>0.0</td>\n",
       "      <td>2010</td>\n",
       "      <td>1</td>\n",
       "      <td>2</td>\n",
       "      <td>5</td>\n",
       "    </tr>\n",
       "  </tbody>\n",
       "</table>\n",
       "<p>100 rows × 9 columns</p>\n",
       "</div>"
      ],
      "text/plain": [
       "                        Open     High      Low    Close       Volume  year  \\\n",
       "Time                                                                         \n",
       "2010-01-01 00:00:00  1.43283  1.43293  1.43224  1.43293  608600007.1  2010   \n",
       "2010-01-01 00:15:00  1.43285  1.43295  1.43229  1.43275  535600003.2  2010   \n",
       "2010-01-01 00:30:00  1.43280  1.43303  1.43239  1.43281  436299999.2  2010   \n",
       "2010-01-01 00:45:00  1.43285  1.43294  1.43229  1.43276  614299997.3  2010   \n",
       "2010-01-01 01:00:00  1.43287  1.43292  1.43206  1.43282  705300008.8  2010   \n",
       "...                      ...      ...      ...      ...          ...   ...   \n",
       "2010-01-01 23:45:00  1.43335  1.43335  1.43335  1.43335          0.0  2010   \n",
       "2010-01-02 00:00:00  1.43335  1.43335  1.43335  1.43335          0.0  2010   \n",
       "2010-01-02 00:15:00  1.43335  1.43335  1.43335  1.43335          0.0  2010   \n",
       "2010-01-02 00:30:00  1.43335  1.43335  1.43335  1.43335          0.0  2010   \n",
       "2010-01-02 00:45:00  1.43335  1.43335  1.43335  1.43335          0.0  2010   \n",
       "\n",
       "                     month  day  day of week  \n",
       "Time                                          \n",
       "2010-01-01 00:00:00      1    1            4  \n",
       "2010-01-01 00:15:00      1    1            4  \n",
       "2010-01-01 00:30:00      1    1            4  \n",
       "2010-01-01 00:45:00      1    1            4  \n",
       "2010-01-01 01:00:00      1    1            4  \n",
       "...                    ...  ...          ...  \n",
       "2010-01-01 23:45:00      1    1            4  \n",
       "2010-01-02 00:00:00      1    2            5  \n",
       "2010-01-02 00:15:00      1    2            5  \n",
       "2010-01-02 00:30:00      1    2            5  \n",
       "2010-01-02 00:45:00      1    2            5  \n",
       "\n",
       "[100 rows x 9 columns]"
      ]
     },
     "execution_count": 5,
     "metadata": {},
     "output_type": "execute_result"
    }
   ],
   "source": [
    "df['year'] = df.Time.dt.year\n",
    "df['month'] = df.Time.dt.month\n",
    "df['day'] = df.Time.dt.day\n",
    "df['day of week'] = df.Time.dt.dayofweek\n",
    "\n",
    "#Set Date column as the index column.\n",
    "df.set_index('Time', inplace=True)\n",
    "df.head(100)"
   ]
  },
  {
   "cell_type": "code",
   "execution_count": 6,
   "metadata": {},
   "outputs": [
    {
     "data": {
      "text/plain": [
       "(245444, 9)"
      ]
     },
     "execution_count": 6,
     "metadata": {},
     "output_type": "execute_result"
    }
   ],
   "source": [
    "df.shape"
   ]
  },
  {
   "cell_type": "markdown",
   "metadata": {},
   "source": [
    "## Ploting some charts to have easy reading of this dataset"
   ]
  },
  {
   "cell_type": "code",
   "execution_count": 21,
   "metadata": {},
   "outputs": [
    {
     "data": {
      "text/plain": [
       "<matplotlib.legend.Legend at 0x25995a3ad88>"
      ]
     },
     "execution_count": 21,
     "metadata": {},
     "output_type": "execute_result"
    },
    {
     "data": {
      "image/png": "[encoded data removed]",
      "text/plain": [
       "<Figure size 1152x576 with 1 Axes>"
      ]
     },
     "metadata": {
      "needs_background": "light"
     },
     "output_type": "display_data"
    }
   ],
   "source": [
    "# Visualising the VWAP \n",
    "\n",
    "plt.figure(figsize=(16,8)) \n",
    "plt.plot(df['Volume'], label='Volume') \n",
    "plt.title('Time Series') \n",
    "plt.xlabel(\"Time(year)\") \n",
    "plt.ylabel(\"Volume Weighted Average Volume\") \n",
    "plt.legend(loc='best')"
   ]
  },
  {
   "cell_type": "code",
   "execution_count": 22,
   "metadata": {},
   "outputs": [
    {
     "data": {
      "text/plain": [
       "<matplotlib.axes._subplots.AxesSubplot at 0x259953df6c8>"
      ]
     },
     "execution_count": 22,
     "metadata": {},
     "output_type": "execute_result"
    },
    {
     "data": {
      "image/png": "[encoded data removed]",
      "text/plain": [
       "<Figure size 432x288 with 1 Axes>"
      ]
     },
     "metadata": {
      "needs_background": "light"
     },
     "output_type": "display_data"
    }
   ],
   "source": [
    "# Yearly Volume of Maruti Stocks\n",
    "df.groupby('year')['Volume'].mean().plot.bar()"
   ]
  },
  {
   "cell_type": "code",
   "execution_count": 9,
   "metadata": {},
   "outputs": [
    {
     "data": {
      "text/plain": [
       "<matplotlib.axes._subplots.AxesSubplot at 0x25996f5fd88>"
      ]
     },
     "execution_count": 9,
     "metadata": {},
     "output_type": "execute_result"
    },
    {
     "data": {
      "image/png": "[encoded data removed]",
      "text/plain": [
       "<Figure size 432x288 with 1 Axes>"
      ]
     },
     "metadata": {
      "needs_background": "light"
     },
     "output_type": "display_data"
    }
   ],
   "source": [
    "# Monthly VWAP of Maruti Stocks\n",
    "df.groupby('month')['Volume'].mean().plot.bar()"
   ]
  },
  {
   "cell_type": "code",
   "execution_count": 10,
   "metadata": {},
   "outputs": [
    {
     "data": {
      "text/plain": [
       "<matplotlib.axes._subplots.AxesSubplot at 0x25996c586c8>"
      ]
     },
     "execution_count": 10,
     "metadata": {},
     "output_type": "execute_result"
    },
    {
     "data": {
      "image/png": "[encoded data removed]",
      "text/plain": [
       "<Figure size 432x288 with 1 Axes>"
      ]
     },
     "metadata": {
      "needs_background": "light"
     },
     "output_type": "display_data"
    }
   ],
   "source": [
    "# Daily VWAP of Maruti Stocks\n",
    "\n",
    "df.groupby('day')['Volume'].mean().plot.bar()"
   ]
  },
  {
   "cell_type": "code",
   "execution_count": 11,
   "metadata": {},
   "outputs": [
    {
     "data": {
      "text/plain": [
       "<matplotlib.axes._subplots.AxesSubplot at 0x2599686b348>"
      ]
     },
     "execution_count": 11,
     "metadata": {},
     "output_type": "execute_result"
    },
    {
     "data": {
      "image/png": "[encoded data removed]",
      "text/plain": [
       "<Figure size 432x288 with 1 Axes>"
      ]
     },
     "metadata": {
      "needs_background": "light"
     },
     "output_type": "display_data"
    }
   ],
   "source": [
    "# Analysing w.r.t day of the week\n",
    "\n",
    "df.groupby('day of week')['Volume'].mean().plot.bar()"
   ]
  },
  {
   "cell_type": "markdown",
   "metadata": {},
   "source": [
    "## Split and Train data set to Predict the future"
   ]
  },
  {
   "cell_type": "code",
   "execution_count": 12,
   "metadata": {},
   "outputs": [
    {
     "data": {
      "text/plain": [
       "<matplotlib.legend.Legend at 0x2599631eec8>"
      ]
     },
     "execution_count": 12,
     "metadata": {},
     "output_type": "execute_result"
    },
    {
     "data": {
      "image/png": "[encoded data removed]",
      "text/plain": [
       "<Figure size 720x432 with 1 Axes>"
      ]
     },
     "metadata": {
      "needs_background": "light"
     },
     "output_type": "display_data"
    }
   ],
   "source": [
    "#split data into train and training set\n",
    "train_data, test_data = df[3:int(len(df)*0.9)], df[int(len(df)*0.9):]\n",
    "plt.figure(figsize=(10,6))\n",
    "plt.grid(True)\n",
    "plt.xlabel('Dates')\n",
    "plt.ylabel('Closing Prices')\n",
    "plt.plot(df, 'green', label='Train data')\n",
    "plt.plot(test_data, 'blue', label='Test data')\n",
    "plt.legend()"
   ]
  },
  {
   "cell_type": "code",
   "execution_count": null,
   "metadata": {},
   "outputs": [],
   "source": [
    "### Reasempling using A command "
   ]
  },
  {
   "cell_type": "code",
   "execution_count": 13,
   "metadata": {},
   "outputs": [
    {
     "data": {
      "text/html": [
       "<div>\n",
       "<style scoped>\n",
       "    .dataframe tbody tr th:only-of-type {\n",
       "        vertical-align: middle;\n",
       "    }\n",
       "\n",
       "    .dataframe tbody tr th {\n",
       "        vertical-align: top;\n",
       "    }\n",
       "\n",
       "    .dataframe thead th {\n",
       "        text-align: right;\n",
       "    }\n",
       "</style>\n",
       "<table border=\"1\" class=\"dataframe\">\n",
       "  <thead>\n",
       "    <tr style=\"text-align: right;\">\n",
       "      <th></th>\n",
       "      <th>Open</th>\n",
       "      <th>High</th>\n",
       "      <th>Low</th>\n",
       "      <th>Close</th>\n",
       "      <th>Volume</th>\n",
       "      <th>year</th>\n",
       "      <th>month</th>\n",
       "      <th>day</th>\n",
       "      <th>day of week</th>\n",
       "    </tr>\n",
       "    <tr>\n",
       "      <th>Time</th>\n",
       "      <th></th>\n",
       "      <th></th>\n",
       "      <th></th>\n",
       "      <th></th>\n",
       "      <th></th>\n",
       "      <th></th>\n",
       "      <th></th>\n",
       "      <th></th>\n",
       "      <th></th>\n",
       "    </tr>\n",
       "  </thead>\n",
       "  <tbody>\n",
       "    <tr>\n",
       "      <td>2010-12-31</td>\n",
       "      <td>1.326995</td>\n",
       "      <td>1.327535</td>\n",
       "      <td>1.326413</td>\n",
       "      <td>1.326996</td>\n",
       "      <td>6.583158e+08</td>\n",
       "      <td>2010.0</td>\n",
       "      <td>6.525631</td>\n",
       "      <td>15.718804</td>\n",
       "      <td>3.002398</td>\n",
       "    </tr>\n",
       "    <tr>\n",
       "      <td>2011-12-31</td>\n",
       "      <td>1.392384</td>\n",
       "      <td>1.392884</td>\n",
       "      <td>1.391888</td>\n",
       "      <td>1.392384</td>\n",
       "      <td>1.690308e+09</td>\n",
       "      <td>2011.0</td>\n",
       "      <td>6.525631</td>\n",
       "      <td>15.718918</td>\n",
       "      <td>3.005138</td>\n",
       "    </tr>\n",
       "    <tr>\n",
       "      <td>2012-12-31</td>\n",
       "      <td>1.285991</td>\n",
       "      <td>1.286324</td>\n",
       "      <td>1.285661</td>\n",
       "      <td>1.285992</td>\n",
       "      <td>1.515558e+09</td>\n",
       "      <td>2012.0</td>\n",
       "      <td>6.513264</td>\n",
       "      <td>15.755437</td>\n",
       "      <td>2.999658</td>\n",
       "    </tr>\n",
       "    <tr>\n",
       "      <td>2013-12-31</td>\n",
       "      <td>1.327970</td>\n",
       "      <td>1.328267</td>\n",
       "      <td>1.327676</td>\n",
       "      <td>1.327972</td>\n",
       "      <td>1.468350e+09</td>\n",
       "      <td>2013.0</td>\n",
       "      <td>6.525631</td>\n",
       "      <td>15.719260</td>\n",
       "      <td>2.994177</td>\n",
       "    </tr>\n",
       "    <tr>\n",
       "      <td>2014-12-31</td>\n",
       "      <td>1.328813</td>\n",
       "      <td>1.329035</td>\n",
       "      <td>1.328591</td>\n",
       "      <td>1.328808</td>\n",
       "      <td>1.261119e+09</td>\n",
       "      <td>2014.0</td>\n",
       "      <td>6.525631</td>\n",
       "      <td>15.719374</td>\n",
       "      <td>2.996917</td>\n",
       "    </tr>\n",
       "  </tbody>\n",
       "</table>\n",
       "</div>"
      ],
      "text/plain": [
       "                Open      High       Low     Close        Volume    year  \\\n",
       "Time                                                                       \n",
       "2010-12-31  1.326995  1.327535  1.326413  1.326996  6.583158e+08  2010.0   \n",
       "2011-12-31  1.392384  1.392884  1.391888  1.392384  1.690308e+09  2011.0   \n",
       "2012-12-31  1.285991  1.286324  1.285661  1.285992  1.515558e+09  2012.0   \n",
       "2013-12-31  1.327970  1.328267  1.327676  1.327972  1.468350e+09  2013.0   \n",
       "2014-12-31  1.328813  1.329035  1.328591  1.328808  1.261119e+09  2014.0   \n",
       "\n",
       "               month        day  day of week  \n",
       "Time                                          \n",
       "2010-12-31  6.525631  15.718804     3.002398  \n",
       "2011-12-31  6.525631  15.718918     3.005138  \n",
       "2012-12-31  6.513264  15.755437     2.999658  \n",
       "2013-12-31  6.525631  15.719260     2.994177  \n",
       "2014-12-31  6.525631  15.719374     2.996917  "
      ]
     },
     "execution_count": 13,
     "metadata": {},
     "output_type": "execute_result"
    }
   ],
   "source": [
    "df.resample(rule = 'A').mean()[:5]"
   ]
  },
  {
   "cell_type": "code",
   "execution_count": 14,
   "metadata": {},
   "outputs": [
    {
     "data": {
      "text/plain": [
       "Text(0.5, 1.0, 'Yearly Mean Volume')"
      ]
     },
     "execution_count": 14,
     "metadata": {},
     "output_type": "execute_result"
    },
    {
     "data": {
      "image/png": "[encoded data removed]",
      "text/plain": [
       "<Figure size 720x288 with 1 Axes>"
      ]
     },
     "metadata": {
      "needs_background": "light"
     },
     "output_type": "display_data"
    }
   ],
   "source": [
    "df['Volume'].resample('A').mean().plot(kind='bar',figsize = (10,4))\n",
    "plt.title('Yearly Mean Volume')"
   ]
  },
  {
   "cell_type": "markdown",
   "metadata": {},
   "source": [
    "## PRedictions using ARMA"
   ]
  },
  {
   "cell_type": "code",
   "execution_count": 15,
   "metadata": {},
   "outputs": [],
   "source": [
    "from statsmodels.tsa.stattools import adfuller\n",
    "from statsmodels.tsa.seasonal import seasonal_decompose\n",
    "from statsmodels.tsa.arima_model import ARIMA\n",
    "from statsmodels.tsa.arima_model import ARMA\n",
    "from sklearn.metrics import mean_squared_error, mean_absolute_error\n",
    "import math\n",
    "import numpy as np"
   ]
  },
  {
   "cell_type": "code",
   "execution_count": 24,
   "metadata": {},
   "outputs": [],
   "source": [
    "%matplotlib inline\n",
    "from pylab import rcParams"
   ]
  },
  {
   "cell_type": "code",
   "execution_count": 18,
   "metadata": {},
   "outputs": [
    {
     "data": {
      "image/png": "[encoded data removed]",
      "text/plain": [
       "<Figure size 432x288 with 1 Axes>"
      ]
     },
     "metadata": {
      "needs_background": "light"
     },
     "output_type": "display_data"
    }
   ],
   "source": [
    "# Predicting humidity level of Montreal\n",
    "humid = ARMA(df['Volume'].resample('A').mean(), order=(1,0))\n",
    "res = humid.fit()\n",
    "res.plot_predict()\n",
    "plt.show()"
   ]
  },
  {
   "cell_type": "markdown",
   "metadata": {},
   "source": [
    "## Prediction using ARIMA model"
   ]
  },
  {
   "cell_type": "code",
   "execution_count": 29,
   "metadata": {},
   "outputs": [
    {
     "name": "stdout",
     "output_type": "stream",
     "text": [
      "                             ARIMA Model Results                              \n",
      "==============================================================================\n",
      "Dep. Variable:               D.Volume   No. Observations:                    6\n",
      "Model:                 ARIMA(2, 1, 0)   Log Likelihood                -131.250\n",
      "Method:                       css-mle   S.D. of innovations      731180167.921\n",
      "Date:                Fri, 21 Feb 2020   AIC                            270.500\n",
      "Time:                        03:26:14   BIC                            269.667\n",
      "Sample:                    12-31-2011   HQIC                           267.166\n",
      "                         - 12-31-2016                                         \n",
      "==================================================================================\n",
      "                     coef    std err          z      P>|z|      [0.025      0.975]\n",
      "----------------------------------------------------------------------------------\n",
      "const           4.537e+08   4.48e+08      1.012      0.386   -4.25e+08    1.33e+09\n",
      "ar.L1.D.Volume     0.2832      1.077      0.263      0.810      -1.827       2.393\n",
      "ar.L2.D.Volume    -0.4757      0.527     -0.903      0.433      -1.508       0.556\n",
      "                                    Roots                                    \n",
      "=============================================================================\n",
      "                  Real          Imaginary           Modulus         Frequency\n",
      "-----------------------------------------------------------------------------\n",
      "AR.1            0.2977           -1.4190j            1.4499           -0.2171\n",
      "AR.2            0.2977           +1.4190j            1.4499            0.2171\n",
      "-----------------------------------------------------------------------------\n"
     ]
    },
    {
     "data": {
      "image/png": "[encoded data removed]",
      "text/plain": [
       "<Figure size 1152x432 with 1 Axes>"
      ]
     },
     "metadata": {
      "needs_background": "light"
     },
     "output_type": "display_data"
    }
   ],
   "source": [
    "# Predicting the microsoft stocks volume\n",
    "rcParams['figure.figsize'] = 16, 6\n",
    "model = ARIMA(df['Volume'].resample('A').mean(), order=(2,1,0))\n",
    "result = model.fit()\n",
    "print(result.summary())\n",
    "result.plot_predict()\n",
    "plt.show()"
   ]
  },
  {
   "cell_type": "code",
   "execution_count": null,
   "metadata": {},
   "outputs": [],
   "source": []
  }
 ],
 "metadata": {
  "kernelspec": {
   "display_name": "Python 3",
   "language": "python",
   "name": "python3"
  },
  "language_info": {
   "codemirror_mode": {
    "name": "ipython",
    "version": 3
   },
   "file_extension": ".py",
   "mimetype": "text/x-python",
   "name": "python",
   "nbconvert_exporter": "python",
   "pygments_lexer": "ipython3",
   "version": "3.7.4"
  }
 },
 "nbformat": 4,
 "nbformat_minor": 2
}
